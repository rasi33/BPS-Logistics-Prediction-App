{
 "cells": [
  {
   "cell_type": "code",
   "execution_count": 12,
   "metadata": {},
   "outputs": [
    {
     "name": "stdout",
     "output_type": "stream",
     "text": [
      "Mean Absolute Error (MAE): 0.028589256646771567\n",
      "Root Mean Squared Error (RMSE): 0.2785493582491427\n",
      "Model and feature list saved successfully.\n"
     ]
    }
   ],
   "source": [
    "# Step 1: Import Necessary Libraries\n",
    "import pandas as pd\n",
    "import numpy as np\n",
    "from sklearn.model_selection import train_test_split\n",
    "from sklearn.ensemble import RandomForestRegressor\n",
    "from sklearn.metrics import mean_absolute_error, mean_squared_error\n",
    "import joblib\n",
    "\n",
    "# Step 2: Load and Preprocess the Data\n",
    "# Load data from the Excel file (adjust the path if needed)\n",
    "file_path = 'crest containers db.xlsx'\n",
    "excel_file = pd.ExcelFile(file_path)\n",
    "\n",
    "# Load necessary sheets\n",
    "order_list = excel_file.parse('OrderList')\n",
    "freight_rates = excel_file.parse('FreightRates')\n",
    "wh_costs = excel_file.parse('WhCosts')\n",
    "\n",
    "# Convert 'Order Date' in the OrderList sheet to datetime format\n",
    "order_list['Order Date'] = pd.to_datetime(order_list['Order Date'])\n",
    "\n",
    "# Encode categorical variables\n",
    "order_list_encoded = pd.get_dummies(order_list, columns=['Origin Port', 'Carrier', 'Service Level', 'Customer', 'Plant Code', 'Destination Port'])\n",
    "\n",
    "# Feature Engineering: Create 'Shipping Duration'\n",
    "order_list_encoded['Shipping Duration'] = order_list_encoded['Ship Late Day count'] + order_list_encoded['Ship ahead day count']\n",
    "order_list_encoded.drop(['Ship Late Day count', 'Ship ahead day count'], axis=1, inplace=True)\n",
    "\n",
    "# Prepare data for modeling\n",
    "X = order_list_encoded.drop(['Order ID', 'Order Date', 'Product ID', 'TPT'], axis=1)  # Features\n",
    "y = order_list_encoded['TPT']  # Target variable\n",
    "\n",
    "# Split the data into training and testing sets\n",
    "X_train, X_test, y_train, y_test = train_test_split(X, y, test_size=0.2, random_state=42)\n",
    "\n",
    "# Step 3: Train the Model\n",
    "# Initialize the Random Forest Regressor\n",
    "rf_model = RandomForestRegressor(n_estimators=100, random_state=42)\n",
    "\n",
    "# Train the model\n",
    "rf_model.fit(X_train, y_train)\n",
    "\n",
    "# Predict on the test data\n",
    "y_pred = rf_model.predict(X_test)\n",
    "\n",
    "# Evaluate the model\n",
    "mae = mean_absolute_error(y_test, y_pred)\n",
    "rmse = np.sqrt(mean_squared_error(y_test, y_pred))\n",
    "\n",
    "print(f\"Mean Absolute Error (MAE): {mae}\")\n",
    "print(f\"Root Mean Squared Error (RMSE): {rmse}\")\n",
    "\n",
    "# Step 4: Save the Trained Model and Feature List\n",
    "# Save the trained model\n",
    "joblib.dump(rf_model, 'random_forest_model.pkl')\n",
    "\n",
    "# Save the list of feature names used during training\n",
    "feature_list = X.columns.tolist()\n",
    "joblib.dump(feature_list, 'feature_list.pkl')\n",
    "\n",
    "print(\"Model and feature list saved successfully.\")\n"
   ]
  },
  {
   "cell_type": "code",
   "execution_count": 2,
   "metadata": {},
   "outputs": [
    {
     "name": "stdout",
     "output_type": "stream",
     "text": [
      "Data with predictions saved to 'logistics_predictions.csv'.\n"
     ]
    }
   ],
   "source": [
    "import pandas as pd\n",
    "import joblib\n",
    "\n",
    "# Load the original data\n",
    "file_path = './crest containers db.xlsx'\n",
    "excel_file = pd.ExcelFile(file_path)\n",
    "order_list = excel_file.parse('OrderList')\n",
    "\n",
    "# Convert 'Order Date' to datetime format\n",
    "order_list['Order Date'] = pd.to_datetime(order_list['Order Date'])\n",
    "\n",
    "# Load the trained Random Forest model\n",
    "model = joblib.load('random_forest_model.pkl')\n",
    "\n",
    "# Encode categorical variables using the same method used during training\n",
    "order_list_encoded = pd.get_dummies(order_list, columns=['Origin Port', 'Carrier', 'Service Level', 'Customer', 'Plant Code', 'Destination Port'])\n",
    "\n",
    "# Feature Engineering: Create 'Shipping Duration'\n",
    "order_list_encoded['Shipping Duration'] = order_list_encoded['Ship Late Day count'] + order_list_encoded['Ship ahead day count']\n",
    "order_list_encoded.drop(['Ship Late Day count', 'Ship ahead day count'], axis=1, inplace=True)\n",
    "\n",
    "# Prepare data for prediction (excluding unnecessary columns)\n",
    "X = order_list_encoded.drop(['Order ID', 'Order Date', 'Product ID', 'TPT'], axis=1)\n",
    "\n",
    "# Predict delivery time for the entire dataset\n",
    "order_list_encoded['Predicted Delivery Time'] = model.predict(X)\n",
    "\n",
    "# Merge predictions with original data for better understanding\n",
    "results = order_list.join(order_list_encoded[['Predicted Delivery Time']])\n",
    "\n",
    "# Save the results to a CSV file for Power BI\n",
    "results.to_csv('logistics_predictions.csv', index=False)\n",
    "print(\"Data with predictions saved to 'logistics_predictions.csv'.\")\n"
   ]
  },
  {
   "cell_type": "code",
   "execution_count": 1,
   "metadata": {},
   "outputs": [
    {
     "name": "stdout",
     "output_type": "stream",
     "text": [
      "Data with predictions saved to 'logistics_predictions_20240911_221359.csv'.\n"
     ]
    }
   ],
   "source": [
    "import pandas as pd\n",
    "import joblib\n",
    "from datetime import datetime\n",
    "\n",
    "# Load the original data\n",
    "file_path = './crest containers db.xlsx'\n",
    "excel_file = pd.ExcelFile(file_path)\n",
    "order_list = excel_file.parse('OrderList')\n",
    "\n",
    "# Convert 'Order Date' to datetime format\n",
    "order_list['Order Date'] = pd.to_datetime(order_list['Order Date'])\n",
    "\n",
    "# Load the trained Random Forest model\n",
    "model = joblib.load('random_forest_model.pkl')\n",
    "\n",
    "# Encode categorical variables using the same method used during training\n",
    "order_list_encoded = pd.get_dummies(order_list, columns=['Origin Port', 'Carrier', 'Service Level', 'Customer', 'Plant Code', 'Destination Port'])\n",
    "\n",
    "# Feature Engineering: Create 'Shipping Duration'\n",
    "order_list_encoded['Shipping Duration'] = order_list_encoded['Ship Late Day count'] + order_list_encoded['Ship ahead day count']\n",
    "order_list_encoded.drop(['Ship Late Day count', 'Ship ahead day count'], axis=1, inplace=True)\n",
    "\n",
    "# Prepare data for prediction (excluding unnecessary columns)\n",
    "X = order_list_encoded.drop(['Order ID', 'Order Date', 'Product ID', 'TPT'], axis=1)\n",
    "\n",
    "# Predict delivery time for the entire dataset\n",
    "order_list_encoded['Predicted Delivery Time'] = model.predict(X)\n",
    "\n",
    "# Merge predictions with original data for better understanding\n",
    "results = order_list.join(order_list_encoded[['Predicted Delivery Time']])\n",
    "\n",
    "# Save the results to a CSV file for Power BI\n",
    "output_filename = f'logistics_predictions_{datetime.now().strftime(\"%Y%m%d_%H%M%S\")}.csv'\n",
    "results.to_csv(output_filename, index=False)\n",
    "print(f\"Data with predictions saved to '{output_filename}'.\")\n"
   ]
  },
  {
   "cell_type": "markdown",
   "metadata": {},
   "source": [
    "https://chatgpt.com/share/0a288a96-ec2b-4123-a9f8-8e5a9f96268a"
   ]
  }
 ],
 "metadata": {
  "kernelspec": {
   "display_name": "Python 3",
   "language": "python",
   "name": "python3"
  },
  "language_info": {
   "codemirror_mode": {
    "name": "ipython",
    "version": 3
   },
   "file_extension": ".py",
   "mimetype": "text/x-python",
   "name": "python",
   "nbconvert_exporter": "python",
   "pygments_lexer": "ipython3",
   "version": "3.12.5"
  }
 },
 "nbformat": 4,
 "nbformat_minor": 2
}
